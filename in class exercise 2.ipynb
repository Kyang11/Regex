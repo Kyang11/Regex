{
 "cells": [
  {
   "cell_type": "markdown",
   "id": "8ec4a43c",
   "metadata": {},
   "source": [
    "#### In-class Exercise 2:\n",
    "Write a function using regular expressions to find the domain name in the given email addresses (and return None for the invalid email addresses)\n",
    "HINT: Use '|' for either or"
   ]
  },
  {
   "cell_type": "code",
   "execution_count": null,
   "id": "a9050662",
   "metadata": {},
   "outputs": [],
   "source": [
    "my_emails = [\"jordanw@codingtemple.orgcom\", \"pocohontas1776@gmail.com\", \"helloworld@aol..com\",\n",
    "             \"yourfavoriteband@g6.org\", \"@codingtemple.com\"]\n",
    "\n",
    "# You can also use the $ at the end of your compile expression -- this stops the search\n",
    "\n",
    "#Expected output:\n",
    "#jordanw@codingtemple.orgcom\n",
    "#pocohontas1776@gmail.com\n",
    "#None\n",
    "#yourfavoriteband@g6.org\n",
    "#None\n",
    "\n",
    "def validate_email(email):\n",
    "    pattern = re.compile(r\"([A-Za-z0-9]+)@([A-Za-z0-9]+).([org|com])\")\n",
    "    if pattern.match(email):\n",
    "        return email\n",
    "    else:\n",
    "        return None\n",
    "    \n",
    "for email in my_emails:\n",
    "    print(validate_email(emai"
   ]
  }
 ],
 "metadata": {
  "kernelspec": {
   "display_name": "Python 3 (ipykernel)",
   "language": "python",
   "name": "python3"
  },
  "language_info": {
   "codemirror_mode": {
    "name": "ipython",
    "version": 3
   },
   "file_extension": ".py",
   "mimetype": "text/x-python",
   "name": "python",
   "nbconvert_exporter": "python",
   "pygments_lexer": "ipython3",
   "version": "3.9.7"
  }
 },
 "nbformat": 4,
 "nbformat_minor": 5
}
