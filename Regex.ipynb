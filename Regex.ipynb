{
 "cells": [
  {
   "cell_type": "markdown",
   "id": "2ad83139",
   "metadata": {},
   "source": [
    "### Regex project\n",
    "Use python to read the file regex_test.txt and print the last name on each line using regular expressions and groups (return None for names with no first and last name, or names that aren't properly capitalized)"
   ]
  },
  {
   "cell_type": "code",
   "execution_count": 3,
   "id": "c86e583c",
   "metadata": {},
   "outputs": [
    {
     "name": "stdout",
     "output_type": "stream",
     "text": [
      "Abraham Lincoln\n",
      "Andrew P Garfield\n",
      "Connor Milliken\n",
      "Jordan Alexander Williams\n",
      "None\n",
      "None\n"
     ]
    }
   ],
   "source": [
    "import re\n",
    "\n",
    "with open('./files/regex-test.txt') as file:\n",
    "    file_line=file.readlines()\n",
    "\n",
    "# print(file_line)\n",
    "pattern = re.compile((\"([\\w]+)([ \\w ]*)([A-Z][\\w]+)\"))\n",
    "\n",
    "\n",
    "for person in file_line:\n",
    "    match = pattern.search(person)\n",
    "        \n",
    "    if match:\n",
    "        print(f\"{match.group()}\")\n",
    "    else:\n",
    "        print(None)\n",
    "\n"
   ]
  }
 ],
 "metadata": {
  "kernelspec": {
   "display_name": "Python 3 (ipykernel)",
   "language": "python",
   "name": "python3"
  },
  "language_info": {
   "codemirror_mode": {
    "name": "ipython",
    "version": 3
   },
   "file_extension": ".py",
   "mimetype": "text/x-python",
   "name": "python",
   "nbconvert_exporter": "python",
   "pygments_lexer": "ipython3",
   "version": "3.9.7"
  }
 },
 "nbformat": 4,
 "nbformat_minor": 5
}
