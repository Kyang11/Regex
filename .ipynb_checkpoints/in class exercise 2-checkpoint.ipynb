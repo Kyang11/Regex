{
 "cells": [
  {
   "cell_type": "markdown",
   "id": "8ec4a43c",
   "metadata": {},
   "source": [
    "#### In-class Exercise 3:\n",
    "Write a function using regular expressions to find the domain name in the given email addresses (and return None for the invalid email addresses)\n",
    "HINT: Use '|' for either or"
   ]
  },
  {
   "cell_type": "code",
   "execution_count": null,
   "id": "a9050662",
   "metadata": {},
   "outputs": [],
   "source": [
    "## I cannot get this to work as need it\n",
    "import re\n",
    "with open('./files/names.txt') as file:\n",
    "    data=file.readlines()\n",
    "print('''\n",
    "===================\n",
    "Full Name / Twitter\n",
    "===================\n",
    "''')\n",
    "new_data=data.split('\\n')\n",
    "for line in new_data:\n",
    "    twitter=re.findall('[\\t](@\\w+)',line)\n",
    "    if(twitter):\n",
    "        name=re.findall('''(\\w+),(\\s\\w+)[\\t]\n",
    "        [^,]''',line,re.X)\n",
    "        f_name=name[0][1]\n",
    "        l_name=name[0][0]\n",
    "        print(f'{f_name} {l_name} / {twitter[0]}')\n"
   ]
  }
 ],
 "metadata": {
  "kernelspec": {
   "display_name": "Python 3 (ipykernel)",
   "language": "python",
   "name": "python3"
  },
  "language_info": {
   "codemirror_mode": {
    "name": "ipython",
    "version": 3
   },
   "file_extension": ".py",
   "mimetype": "text/x-python",
   "name": "python",
   "nbconvert_exporter": "python",
   "pygments_lexer": "ipython3",
   "version": "3.9.7"
  }
 },
 "nbformat": 4,
 "nbformat_minor": 5
}
