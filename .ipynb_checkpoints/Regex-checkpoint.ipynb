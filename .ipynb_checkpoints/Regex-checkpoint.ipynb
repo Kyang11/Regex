{
 "cells": [
  {
   "cell_type": "code",
   "execution_count": null,
   "id": "170b18c7",
   "metadata": {},
   "outputs": [],
   "source": []
  },
  {
   "cell_type": "code",
   "execution_count": 4,
   "id": "249f6ed0",
   "metadata": {},
   "outputs": [
    {
     "name": "stdout",
     "output_type": "stream",
     "text": [
      "['Abraham Lincoln\\n', 'Andrew P Garfield\\n', 'Connor Milliken\\n', 'Jordan Alexander Williams\\n', 'Madonna\\n', 'programming is cool']\n",
      "ln\n",
      "ld\n",
      "en\n",
      "ms\n",
      "na\n",
      "ol\n"
     ]
    }
   ],
   "source": [
    "import re\n",
    "\n",
    "with open('./files/regex-test.txt') as file:\n",
    "    file_line=file.readlines()\n",
    "\n",
    "print(file_line)\n",
    "pattern = re.compile((\"([\\w]+)([ \\w ]*)([A-Z][\\w]+)\"))\n",
    "\n",
    "# If only last name is needed\n",
    "\n",
    "for person in file_line:\n",
    "    match = pattern.search(person)\n",
    "        \n",
    "    if match:\n",
    "        print(f\"{match.group(3)}\")\n",
    "    else:\n",
    "        print(None)\n",
    "\n"
   ]
  }
 ],
 "metadata": {
  "kernelspec": {
   "display_name": "Python 3 (ipykernel)",
   "language": "python",
   "name": "python3"
  },
  "language_info": {
   "codemirror_mode": {
    "name": "ipython",
    "version": 3
   },
   "file_extension": ".py",
   "mimetype": "text/x-python",
   "name": "python",
   "nbconvert_exporter": "python",
   "pygments_lexer": "ipython3",
   "version": "3.9.7"
  }
 },
 "nbformat": 4,
 "nbformat_minor": 5
}
